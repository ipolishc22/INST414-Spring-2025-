{
 "cells": [
  {
   "cell_type": "code",
   "execution_count": 1,
   "metadata": {},
   "outputs": [],
   "source": [
    "import json\n",
    "import networkx as nx"
   ]
  },
  {
   "cell_type": "code",
   "execution_count": 2,
   "metadata": {},
   "outputs": [],
   "source": [
    "g = nx.Graph()"
   ]
  },
  {
   "cell_type": "code",
   "execution_count": 5,
   "metadata": {},
   "outputs": [],
   "source": [
    "with open(\"imdb_movies_2000to2022.prolific.json\", \"r\") as IMDB_file:\n",
    "    for obj in IMDB_file:\n",
    "        movie = json.loads(obj)\n",
    "        for actor_id, actor_name in movie['actors']:\n",
    "            g.add_node(actor_id, name=actor_name)\n",
    "        i=0\n",
    "        for left_actor_id, left_actor_name in movie['actors']:\n",
    "            for right_actor_id, right_actor_name in movie['actors'][i+1:]:\n",
    "                g.add_edge(left_actor_id, right_actor_id)"
   ]
  },
  {
   "cell_type": "code",
   "execution_count": 7,
   "metadata": {},
   "outputs": [],
   "source": [
    "degree_centrality = nx.degree_centrality(g)"
   ]
  },
  {
   "cell_type": "code",
   "execution_count": 8,
   "metadata": {},
   "outputs": [],
   "source": [
    "eigenvector_centrality = nx.eigenvector_centrality(g)"
   ]
  },
  {
   "cell_type": "code",
   "execution_count": 15,
   "metadata": {},
   "outputs": [],
   "source": [
    "closeness_centrality = nx.closeness_centrality(g)"
   ]
  },
  {
   "cell_type": "code",
   "execution_count": 11,
   "metadata": {},
   "outputs": [
    {
     "name": "stdout",
     "output_type": "stream",
     "text": [
      "nm0000616 Eric Roberts 0.017257795762913593\n",
      "nm0001744 Tom Sizemore 0.008390859319209711\n",
      "nm0000514 Michael Madsen 0.008033801475839085\n",
      "nm0001803 Danny Trejo 0.0072899309688169486\n",
      "nm2278431 Joe Hammerstone 0.006665079742918353\n",
      "nm0222881 Tony Devon 0.00648655082123304\n",
      "nm0001002 Dean Cain 0.005980718876457986\n",
      "nm0442207 Lloyd Kaufman 0.0057129254939300165\n",
      "nm0261724 Joe Estevez 0.005593906212806475\n",
      "nm0000115 Nicolas Cage 0.0051773387288740775\n",
      "nm2454994 Bill Oberst Jr. 0.005117829088312306\n",
      "nm0004193 Debbie Rochon 0.005088074268031421\n",
      "nm0290556 James Franco 0.004969054986907879\n",
      "nm0865302 Tony Todd 0.004850035705784337\n",
      "nm1678610 Theodore Bouloukos 0.004850035705784337\n",
      "nm0000246 Bruce Willis 0.0047310164246607955\n",
      "nm0001595 Michael Paré 0.004552487502975482\n",
      "nm0000168 Samuel L. Jackson 0.004492977862413711\n",
      "nm0000353 Willem Dafoe 0.0044632230421328255\n",
      "nm0000448 Lance Henriksen 0.004373958581290169\n"
     ]
    }
   ],
   "source": [
    "top_k=20\n",
    "for u in sorted(degree_centrality, key=degree_centrality.get, reverse=True)[:top_k]:\n",
    "    print(u, g.nodes[u]['name'],degree_centrality[u])"
   ]
  },
  {
   "cell_type": "code",
   "execution_count": 13,
   "metadata": {},
   "outputs": [
    {
     "name": "stdout",
     "output_type": "stream",
     "text": [
      "nm0000168 Samuel L. Jackson 0.09469412340395876\n",
      "nm0000242 Mark Wahlberg 0.08477043529385025\n",
      "nm0000194 Julianne Moore 0.08399875204866472\n",
      "nm0000115 Nicolas Cage 0.08368002609253032\n",
      "nm0000173 Nicole Kidman 0.0818070295725202\n",
      "nm0268199 Colin Farrell 0.08163927671087583\n",
      "nm0000134 Robert De Niro 0.0809285326636958\n",
      "nm0005351 Ryan Reynolds 0.07835638451564765\n",
      "nm0000353 Willem Dafoe 0.07665683393918046\n",
      "nm0000164 Anthony Hopkins 0.07532349068250346\n",
      "nm0000354 Matt Damon 0.07339639852717002\n",
      "nm0000246 Bruce Willis 0.07297732187529035\n",
      "nm0000151 Morgan Freeman 0.07211715473642104\n",
      "nm0000191 Ewan McGregor 0.0719335875833947\n",
      "nm0000288 Christian Bale 0.07156436587301401\n",
      "nm0000949 Cate Blanchett 0.07058355426950055\n",
      "nm0000437 Woody Harrelson 0.07048515712971051\n",
      "nm0000234 Charlize Theron 0.06917865826961926\n",
      "nm0290556 James Franco 0.0682650862743619\n",
      "nm0001426 Ben Kingsley 0.06769221095253256\n"
     ]
    }
   ],
   "source": [
    "top_k=20\n",
    "for u in sorted(eigenvector_centrality, key=eigenvector_centrality.get, reverse=True)[:top_k]:\n",
    "    print(u, g.nodes[u]['name'],eigenvector_centrality[u])"
   ]
  },
  {
   "cell_type": "code",
   "execution_count": 16,
   "metadata": {},
   "outputs": [
    {
     "name": "stdout",
     "output_type": "stream",
     "text": [
      "nm0000616 Eric Roberts 0.31899973590614594\n",
      "nm0001744 Tom Sizemore 0.3084278837422133\n",
      "nm0000514 Michael Madsen 0.30612464194322697\n",
      "nm0001803 Danny Trejo 0.3006419043405869\n",
      "nm0000579 Ron Perlman 0.29269179520877786\n",
      "nm0000663 Dominique Swain 0.2899665505202093\n",
      "nm0001002 Dean Cain 0.2894056966481616\n",
      "nm0000407 Vivica A. Fox 0.287841751907618\n",
      "nm0001595 Michael Paré 0.28691347292038\n",
      "nm0489436 Robert LaSardo 0.2866686065084753\n",
      "nm0000532 Malcolm McDowell 0.2865014382536681\n",
      "nm0000800 Armand Assante 0.28641418905555727\n",
      "nm0202966 Keith David 0.2860508077110362\n",
      "nm0000499 Bai Ling 0.28585456774048196\n",
      "nm0000174 Val Kilmer 0.2857950038475347\n",
      "nm0000448 Lance Henriksen 0.2852476841261283\n",
      "nm0290556 James Franco 0.2851439055816358\n",
      "nm0920460 Vernon Wells 0.28437533690546507\n",
      "nm0000115 Nicolas Cage 0.28426482740054054\n",
      "nm0005068 Vinnie Jones 0.28425746315396283\n"
     ]
    }
   ],
   "source": [
    "top_k=20\n",
    "for u in sorted(closeness_centrality, key=closeness_centrality.get, reverse=True)[:top_k]:\n",
    "    print(u, g.nodes[u]['name'],closeness_centrality[u])"
   ]
  }
 ],
 "metadata": {
  "kernelspec": {
   "display_name": "Python 3",
   "language": "python",
   "name": "python3"
  },
  "language_info": {
   "codemirror_mode": {
    "name": "ipython",
    "version": 3
   },
   "file_extension": ".py",
   "mimetype": "text/x-python",
   "name": "python",
   "nbconvert_exporter": "python",
   "pygments_lexer": "ipython3",
   "version": "3.12.5"
  },
  "orig_nbformat": 4
 },
 "nbformat": 4,
 "nbformat_minor": 2
}

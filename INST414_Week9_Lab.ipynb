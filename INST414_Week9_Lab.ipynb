{
 "cells": [
  {
   "cell_type": "code",
   "execution_count": 5,
   "metadata": {},
   "outputs": [
    {
     "name": "stdout",
     "output_type": "stream",
     "text": [
      "[('tt0035423', ['Comedy', 'Fantasy', 'Romance']), ('tt0088751', ['Comedy', 'Horror', 'Sci-Fi']), ('tt0096056', ['Drama']), ('tt0113092', ['Action', 'Adventure', 'Drama']), ('tt0116391', ['Action', 'Crime', 'Drama'])]\n"
     ]
    }
   ],
   "source": [
    "import json\n",
    "import pandas as pd\n",
    "\n",
    "\n",
    "movie_genre_map = {}\n",
    "\n",
    "with open('imdb_movies_2000to2022.prolific.json', 'r') as f:\n",
    "    for line in f:\n",
    "        movie = json.loads(line)\n",
    "        movie_genre_map[movie['imdb_id']] = movie['genres']\n",
    "\n",
    "print(list(movie_genre_map.items())[:5])"
   ]
  },
  {
   "cell_type": "code",
   "execution_count": 6,
   "metadata": {},
   "outputs": [],
   "source": [
    "cluster_df = pd.read_csv('movie_to_cluster.csv')"
   ]
  },
  {
   "cell_type": "code",
   "execution_count": 14,
   "metadata": {},
   "outputs": [],
   "source": [
    "target_genre = 'Sci-Fi'\n",
    "total_movies = len(cluster_df)"
   ]
  },
  {
   "cell_type": "code",
   "execution_count": 15,
   "metadata": {},
   "outputs": [
    {
     "name": "stdout",
     "output_type": "stream",
     "text": [
      "1055\n",
      "['tt0088751', 'tt0120804', 'tt0120903', 'tt0131597', 'tt0133152']\n"
     ]
    }
   ],
   "source": [
    "sci_fi_movies = []\n",
    "for m, genres in movie_genre_map.items():\n",
    "    if target_genre in genres:\n",
    "        sci_fi_movies.append(m)\n",
    "\n",
    "total_sci_fi_movies = len(sci_fi_movies)\n",
    "print(total_sci_fi_movies)\n",
    "print(sci_fi_movies[:5])"
   ]
  },
  {
   "cell_type": "code",
   "execution_count": 16,
   "metadata": {},
   "outputs": [
    {
     "name": "stdout",
     "output_type": "stream",
     "text": [
      "0.0511639185257032\n"
     ]
    }
   ],
   "source": [
    "P_sci_fi = total_sci_fi_movies / total_movies\n",
    "print(P_sci_fi)"
   ]
  },
  {
   "cell_type": "code",
   "execution_count": 22,
   "metadata": {},
   "outputs": [
    {
     "name": "stdout",
     "output_type": "stream",
     "text": [
      "P(Cluster 00 | Sci-Fi): 0.17345971563981044\n",
      "P(Cluster 01 | Sci-Fi): 0.040758293838862564\n",
      "P(Cluster 02 | Sci-Fi): 0.20379146919431282\n",
      "P(Cluster 03 | Sci-Fi): 0.024644549763033177\n",
      "P(Cluster 04 | Sci-Fi): 0.05308056872037915\n",
      "P(Cluster 05 | Sci-Fi): 0.0\n",
      "P(Cluster 06 | Sci-Fi): 0.061611374407582936\n",
      "P(Cluster 07 | Sci-Fi): 0.0\n",
      "P(Cluster 08 | Sci-Fi): 0.008530805687203791\n",
      "P(Cluster 09 | Sci-Fi): 0.021800947867298578\n",
      "P(Cluster 10 | Sci-Fi): 0.0009478672985781991\n",
      "P(Cluster 11 | Sci-Fi): 0.047393364928909956\n",
      "P(Cluster 12 | Sci-Fi): 0.18862559241706162\n",
      "P(Cluster 13 | Sci-Fi): 0.013270142180094787\n",
      "P(Cluster 14 | Sci-Fi): 0.03033175355450237\n",
      "P(Cluster 15 | Sci-Fi): 0.13175355450236967\n"
     ]
    }
   ],
   "source": [
    "for cluster_id, group in cluster_df.groupby(\"cluster\"):\n",
    "    cluster_movie_ids = group[\"movie_id\"]\n",
    "    scifi_in_cluster_count = 0\n",
    "    for m in cluster_movie_ids:\n",
    "        if m in sci_fi_movies:\n",
    "            scifi_in_cluster_count += 1 \n",
    "\n",
    "    P_cluster_and_sci_fi = scifi_in_cluster_count / total_movies\n",
    "    if P_sci_fi > 0:\n",
    "        P_cluster_given_sci_fi = P_cluster_and_sci_fi / P_sci_fi\n",
    "    else:\n",
    "        P_cluster_given_sci_fi = 0\n",
    "\n",
    "    print(f\"P(Cluster {cluster_id:02d} | {target_genre}): {P_cluster_given_sci_fi}\")"
   ]
  },
  {
   "cell_type": "code",
   "execution_count": 36,
   "metadata": {},
   "outputs": [],
   "source": [
    "target_genre = 'Fantasy'\n",
    "total_movies = len(cluster_df)"
   ]
  },
  {
   "cell_type": "code",
   "execution_count": 37,
   "metadata": {},
   "outputs": [
    {
     "name": "stdout",
     "output_type": "stream",
     "text": [
      "877\n",
      "['tt0035423', 'tt0120166', 'tt0120667', 'tt0121765', 'tt0121766']\n"
     ]
    }
   ],
   "source": [
    "fantasy_movies = []\n",
    "for m, genres in movie_genre_map.items():\n",
    "    if target_genre in genres:\n",
    "        fantasy_movies.append(m)\n",
    "\n",
    "total_fantasy_movies = len(fantasy_movies)\n",
    "print(total_fantasy_movies)\n",
    "print(fantasy_movies[:5])"
   ]
  },
  {
   "cell_type": "code",
   "execution_count": 38,
   "metadata": {},
   "outputs": [
    {
     "name": "stdout",
     "output_type": "stream",
     "text": [
      "0.04253152279340446\n"
     ]
    }
   ],
   "source": [
    "P_fantasy = total_fantasy_movies / total_movies\n",
    "print(P_fantasy)"
   ]
  },
  {
   "cell_type": "code",
   "execution_count": 39,
   "metadata": {},
   "outputs": [
    {
     "name": "stdout",
     "output_type": "stream",
     "text": [
      "P(Cluster 00 | Fantasy): 0.23831242873432154\n",
      "P(Cluster 01 | Fantasy): 0.009122006841505131\n",
      "P(Cluster 02 | Fantasy): 0.18814139110604333\n",
      "P(Cluster 03 | Fantasy): 0.0330672748004561\n",
      "P(Cluster 04 | Fantasy): 0.05473204104903078\n",
      "P(Cluster 05 | Fantasy): 0.002280501710376283\n",
      "P(Cluster 06 | Fantasy): 0.1630558722919042\n",
      "P(Cluster 07 | Fantasy): 0.0\n",
      "P(Cluster 08 | Fantasy): 0.039908779931584946\n",
      "P(Cluster 09 | Fantasy): 0.02280501710376283\n",
      "P(Cluster 10 | Fantasy): 0.002280501710376283\n",
      "P(Cluster 11 | Fantasy): 0.01710376282782212\n",
      "P(Cluster 12 | Fantasy): 0.0992018244013683\n",
      "P(Cluster 13 | Fantasy): 0.07069555302166476\n",
      "P(Cluster 14 | Fantasy): 0.03876852907639681\n",
      "P(Cluster 15 | Fantasy): 0.020524515393386546\n"
     ]
    }
   ],
   "source": [
    "for cluster_id, group in cluster_df.groupby(\"cluster\"):\n",
    "    cluster_movie_ids = group[\"movie_id\"]\n",
    "    fantasy_in_cluster_count = 0\n",
    "    for m in cluster_movie_ids:\n",
    "        if m in fantasy_movies:\n",
    "            fantasy_in_cluster_count += 1 \n",
    "\n",
    "    P_cluster_and_fantasy = fantasy_in_cluster_count / total_movies\n",
    "    if P_fantasy > 0:\n",
    "        P_cluster_given_fantasy = P_cluster_and_fantasy / P_fantasy\n",
    "    else:\n",
    "        P_cluster_given_fantasy = 0\n",
    "\n",
    "    print(f\"P(Cluster {cluster_id:02d} | {target_genre}): {P_cluster_given_fantasy}\")"
   ]
  },
  {
   "cell_type": "code",
   "execution_count": 40,
   "metadata": {},
   "outputs": [],
   "source": [
    "target_genre = 'Adventure'\n",
    "total_movies = len(cluster_df)"
   ]
  },
  {
   "cell_type": "code",
   "execution_count": 41,
   "metadata": {},
   "outputs": [
    {
     "name": "stdout",
     "output_type": "stream",
     "text": [
      "1667\n",
      "['tt0113092', 'tt0119273', 'tt0120166', 'tt0120630', 'tt0120667']\n"
     ]
    }
   ],
   "source": [
    "adventure_movies = []\n",
    "for m, genres in movie_genre_map.items():\n",
    "    if target_genre in genres:\n",
    "        adventure_movies.append(m)\n",
    "\n",
    "total_adventure_movies = len(adventure_movies)\n",
    "print(total_adventure_movies)\n",
    "print(adventure_movies[:5])"
   ]
  },
  {
   "cell_type": "code",
   "execution_count": 42,
   "metadata": {},
   "outputs": [
    {
     "name": "stdout",
     "output_type": "stream",
     "text": [
      "0.08084384093113482\n"
     ]
    }
   ],
   "source": [
    "P_adventure = total_adventure_movies / total_movies\n",
    "print(P_adventure)"
   ]
  },
  {
   "cell_type": "code",
   "execution_count": 43,
   "metadata": {},
   "outputs": [
    {
     "name": "stdout",
     "output_type": "stream",
     "text": [
      "P(Cluster 00 | Adventure): 0.28434313137372524\n",
      "P(Cluster 01 | Adventure): 0.007198560287942411\n",
      "P(Cluster 02 | Adventure): 0.3923215356928614\n",
      "P(Cluster 03 | Adventure): 0.08098380323935213\n",
      "P(Cluster 04 | Adventure): 0.011397720455908818\n",
      "P(Cluster 05 | Adventure): 0.01259748050389922\n",
      "P(Cluster 06 | Adventure): 0.07438512297540492\n",
      "P(Cluster 07 | Adventure): 0.0\n",
      "P(Cluster 08 | Adventure): 0.00599880023995201\n",
      "P(Cluster 09 | Adventure): 0.0011997600479904018\n",
      "P(Cluster 10 | Adventure): 0.008998200359928014\n",
      "P(Cluster 11 | Adventure): 0.004199160167966407\n",
      "P(Cluster 12 | Adventure): 0.014397120575884822\n",
      "P(Cluster 13 | Adventure): 0.047390521895620874\n",
      "P(Cluster 14 | Adventure): 0.010797840431913617\n",
      "P(Cluster 15 | Adventure): 0.04379124175164967\n"
     ]
    }
   ],
   "source": [
    "for cluster_id, group in cluster_df.groupby(\"cluster\"):\n",
    "    cluster_movie_ids = group[\"movie_id\"]\n",
    "    adventure_in_cluster_count = 0\n",
    "    for m in cluster_movie_ids:\n",
    "        if m in adventure_movies:\n",
    "            adventure_in_cluster_count += 1 \n",
    "\n",
    "    P_cluster_and_adventure = adventure_in_cluster_count / total_movies\n",
    "    if P_adventure > 0:\n",
    "        P_cluster_given_adventure = P_cluster_and_adventure / P_adventure\n",
    "    else:\n",
    "        P_cluster_given_adventure = 0\n",
    "\n",
    "    print(f\"P(Cluster {cluster_id:02d} | {target_genre}): {P_cluster_given_adventure}\")"
   ]
  }
 ],
 "metadata": {
  "kernelspec": {
   "display_name": "Python 3",
   "language": "python",
   "name": "python3"
  },
  "language_info": {
   "codemirror_mode": {
    "name": "ipython",
    "version": 3
   },
   "file_extension": ".py",
   "mimetype": "text/x-python",
   "name": "python",
   "nbconvert_exporter": "python",
   "pygments_lexer": "ipython3",
   "version": "3.12.5"
  },
  "orig_nbformat": 4
 },
 "nbformat": 4,
 "nbformat_minor": 2
}

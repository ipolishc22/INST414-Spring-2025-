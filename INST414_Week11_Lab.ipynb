{
 "cells": [
  {
   "cell_type": "code",
   "execution_count": 3,
   "metadata": {},
   "outputs": [],
   "source": [
    "import json\n",
    "from collections import Counter\n",
    "\n",
    "movies = []\n",
    "with open('imdb_movies_2000to2022.prolific.json', 'r') as f:\n",
    "    for line in f:\n",
    "        movies.append(json.loads(line))\n",
    "\n",
    "\n",
    "\n",
    "\n",
    "def jaccard_similarity(actors1, actors2):\n",
    "    intersection = actors1.intersection(actors2)\n",
    "    union = actors1.union(actors2)\n",
    "    return len(intersection)/len(union)\n",
    "\n",
    "\n",
    "\n",
    "def predict_genre(target_movie_id, k):\n",
    "    for movie in movies:\n",
    "        if movie['imdb_id'] == target_movie_id:\n",
    "            target_movie = movie\n",
    "            break\n",
    "\n",
    "    target_actors = {actor[0] for actor in target_movie['actors']}\n",
    "\n",
    "    similarities = []\n",
    "\n",
    "    for movie in movies:\n",
    "        if movie['imdb_id'] != target_movie_id:\n",
    "            movie_actors = {actor[0] for actor in movie['actors']}\n",
    "            similarity = jaccard_similarity(target_actors, movie_actors)\n",
    "            similarities.append((similarity, movie['genres']))\n",
    "    similarities.sort(reverse=True)\n",
    "\n",
    "    top_k_genres = []\n",
    "    for similarity, genres in similarities[:k]:\n",
    "        for genre in genres:\n",
    "            top_k_genres.append(genre)\n",
    "\n",
    "    genre_counts = Counter(top_k_genres)\n",
    "    max_count = max(genre_counts.values())\n",
    "\n",
    "    most_common_genres = []\n",
    "    for genre, count in genre_counts.items():\n",
    "        if count == max_count:\n",
    "            most_common_genres.append(genre)\n",
    "\n",
    "    return most_common_genres\n"
   ]
  },
  {
   "cell_type": "code",
   "execution_count": 20,
   "metadata": {},
   "outputs": [
    {
     "data": {
      "text/plain": [
       "['Action', 'Adventure', 'Animation']"
      ]
     },
     "execution_count": 20,
     "metadata": {},
     "output_type": "execute_result"
    }
   ],
   "source": [
    "# The Incredibles\n",
    "predict_genre('tt0317705', 1)"
   ]
  },
  {
   "cell_type": "code",
   "execution_count": 21,
   "metadata": {},
   "outputs": [
    {
     "data": {
      "text/plain": [
       "['Documentary']"
      ]
     },
     "execution_count": 21,
     "metadata": {},
     "output_type": "execute_result"
    }
   ],
   "source": [
    "# The Incredibles\n",
    "predict_genre('tt0317705', 3)"
   ]
  },
  {
   "cell_type": "code",
   "execution_count": 22,
   "metadata": {},
   "outputs": [
    {
     "data": {
      "text/plain": [
       "['Documentary']"
      ]
     },
     "execution_count": 22,
     "metadata": {},
     "output_type": "execute_result"
    }
   ],
   "source": [
    "# The Incredibles\n",
    "predict_genre('tt0317705', 5)"
   ]
  },
  {
   "cell_type": "code",
   "execution_count": 23,
   "metadata": {},
   "outputs": [
    {
     "data": {
      "text/plain": [
       "['Drama', 'Mystery', 'Thriller']"
      ]
     },
     "execution_count": 23,
     "metadata": {},
     "output_type": "execute_result"
    }
   ],
   "source": [
    "# Interstellar\n",
    "predict_genre('tt0816692', 1)"
   ]
  },
  {
   "cell_type": "code",
   "execution_count": 24,
   "metadata": {},
   "outputs": [
    {
     "data": {
      "text/plain": [
       "['Drama', 'Documentary']"
      ]
     },
     "execution_count": 24,
     "metadata": {},
     "output_type": "execute_result"
    }
   ],
   "source": [
    "# Interstellar\n",
    "predict_genre('tt0816692', 3)"
   ]
  },
  {
   "cell_type": "code",
   "execution_count": 25,
   "metadata": {},
   "outputs": [
    {
     "data": {
      "text/plain": [
       "['Documentary']"
      ]
     },
     "execution_count": 25,
     "metadata": {},
     "output_type": "execute_result"
    }
   ],
   "source": [
    "# Interstellar\n",
    "predict_genre('tt0816692', 5)"
   ]
  },
  {
   "cell_type": "code",
   "execution_count": 26,
   "metadata": {},
   "outputs": [
    {
     "data": {
      "text/plain": [
       "['Action', 'Biography', 'Documentary']"
      ]
     },
     "execution_count": 26,
     "metadata": {},
     "output_type": "execute_result"
    }
   ],
   "source": [
    "# The Notebook\n",
    "predict_genre('tt0332280', 1)"
   ]
  },
  {
   "cell_type": "code",
   "execution_count": 27,
   "metadata": {},
   "outputs": [
    {
     "data": {
      "text/plain": [
       "['Thriller']"
      ]
     },
     "execution_count": 27,
     "metadata": {},
     "output_type": "execute_result"
    }
   ],
   "source": [
    "# The Notebook\n",
    "predict_genre('tt0332280', 3)"
   ]
  },
  {
   "cell_type": "code",
   "execution_count": 28,
   "metadata": {},
   "outputs": [
    {
     "data": {
      "text/plain": [
       "['Drama']"
      ]
     },
     "execution_count": 28,
     "metadata": {},
     "output_type": "execute_result"
    }
   ],
   "source": [
    "# The Notebook\n",
    "predict_genre('tt0332280', 5)"
   ]
  },
  {
   "cell_type": "markdown",
   "metadata": {},
   "source": [
    "As the k-value increases, the number of inferred genres decreases"
   ]
  }
 ],
 "metadata": {
  "kernelspec": {
   "display_name": "Python 3",
   "language": "python",
   "name": "python3"
  },
  "language_info": {
   "codemirror_mode": {
    "name": "ipython",
    "version": 3
   },
   "file_extension": ".py",
   "mimetype": "text/x-python",
   "name": "python",
   "nbconvert_exporter": "python",
   "pygments_lexer": "ipython3",
   "version": "3.12.5"
  },
  "orig_nbformat": 4
 },
 "nbformat": 4,
 "nbformat_minor": 2
}

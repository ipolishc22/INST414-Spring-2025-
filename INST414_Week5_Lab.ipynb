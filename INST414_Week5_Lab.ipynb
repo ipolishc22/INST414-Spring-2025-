{
 "cells": [
  {
   "cell_type": "code",
   "execution_count": 1,
   "metadata": {},
   "outputs": [],
   "source": [
    "import pandas as pd\n",
    "import json"
   ]
  },
  {
   "cell_type": "code",
   "execution_count": 2,
   "metadata": {},
   "outputs": [],
   "source": [
    "actor_genre = {}"
   ]
  },
  {
   "cell_type": "code",
   "execution_count": 4,
   "metadata": {},
   "outputs": [],
   "source": [
    "with open(\"imdb_movies_2000to2022.prolific.json\", \"r\") as IMDB_file:\n",
    "    for line in IMDB_file:\n",
    "        movie = json.loads(line)\n",
    "        genres = movie['genres']\n",
    "        actors = movie['actors']\n",
    "        for actor_id, actor_name in actors:\n",
    "            if not actor_id in actor_genre:\n",
    "                actor_genre[actor_id] = {}\n",
    "            for genre in genres:\n",
    "                if genre not in actor_genre[actor_id]:\n",
    "                    actor_genre[actor_id][genre] = 0\n",
    "                actor_genre[actor_id][genre] += 1\n",
    "                # add a name of the actor\n",
    "                # map actor id and actor name to be able to display the names in the end "
   ]
  },
  {
   "cell_type": "code",
   "execution_count": 9,
   "metadata": {},
   "outputs": [
    {
     "name": "stdout",
     "output_type": "stream",
     "text": [
      "[('nm0000212', {'Comedy': 7, 'Fantasy': 1, 'Romance': 6, 'Drama': 6, 'Mystery': 1, 'Thriller': 2, 'Action': 1, 'Biography': 1, 'Crime': 2, 'War': 1})]\n"
     ]
    }
   ],
   "source": [
    "print(list(actor_genre.items())[:1])"
   ]
  },
  {
   "cell_type": "code",
   "execution_count": 11,
   "metadata": {},
   "outputs": [
    {
     "data": {
      "text/plain": [
       "{'Action': 17,\n",
       " 'Fantasy': 2,\n",
       " 'Adventure': 10,\n",
       " 'Comedy': 3,\n",
       " 'Crime': 3,\n",
       " 'Thriller': 4,\n",
       " 'Drama': 7,\n",
       " 'Horror': 1,\n",
       " 'Mystery': 1,\n",
       " 'Biography': 2,\n",
       " 'History': 1,\n",
       " 'Sci-Fi': 2}"
      ]
     },
     "execution_count": 11,
     "metadata": {},
     "output_type": "execute_result"
    }
   ],
   "source": [
    "actor_genre['nm1165110']"
   ]
  },
  {
   "cell_type": "code",
   "execution_count": 12,
   "metadata": {},
   "outputs": [
    {
     "data": {
      "text/html": [
       "<div>\n",
       "<style scoped>\n",
       "    .dataframe tbody tr th:only-of-type {\n",
       "        vertical-align: middle;\n",
       "    }\n",
       "\n",
       "    .dataframe tbody tr th {\n",
       "        vertical-align: top;\n",
       "    }\n",
       "\n",
       "    .dataframe thead th {\n",
       "        text-align: right;\n",
       "    }\n",
       "</style>\n",
       "<table border=\"1\" class=\"dataframe\">\n",
       "  <thead>\n",
       "    <tr style=\"text-align: right;\">\n",
       "      <th></th>\n",
       "      <th>Comedy</th>\n",
       "      <th>Fantasy</th>\n",
       "      <th>Romance</th>\n",
       "      <th>Drama</th>\n",
       "      <th>Mystery</th>\n",
       "      <th>Thriller</th>\n",
       "      <th>Action</th>\n",
       "      <th>Biography</th>\n",
       "      <th>Crime</th>\n",
       "      <th>War</th>\n",
       "      <th>...</th>\n",
       "      <th>Horror</th>\n",
       "      <th>Documentary</th>\n",
       "      <th>Sport</th>\n",
       "      <th>News</th>\n",
       "      <th>Family</th>\n",
       "      <th>Music</th>\n",
       "      <th></th>\n",
       "      <th>Western</th>\n",
       "      <th>Short</th>\n",
       "      <th>Reality-TV</th>\n",
       "    </tr>\n",
       "  </thead>\n",
       "  <tbody>\n",
       "    <tr>\n",
       "      <th>nm0000212</th>\n",
       "      <td>7.0</td>\n",
       "      <td>1.0</td>\n",
       "      <td>6.0</td>\n",
       "      <td>6.0</td>\n",
       "      <td>1.0</td>\n",
       "      <td>2.0</td>\n",
       "      <td>1.0</td>\n",
       "      <td>1.0</td>\n",
       "      <td>2.0</td>\n",
       "      <td>1.0</td>\n",
       "      <td>...</td>\n",
       "      <td>NaN</td>\n",
       "      <td>NaN</td>\n",
       "      <td>NaN</td>\n",
       "      <td>NaN</td>\n",
       "      <td>NaN</td>\n",
       "      <td>NaN</td>\n",
       "      <td>NaN</td>\n",
       "      <td>NaN</td>\n",
       "      <td>NaN</td>\n",
       "      <td>NaN</td>\n",
       "    </tr>\n",
       "    <tr>\n",
       "      <th>nm0413168</th>\n",
       "      <td>7.0</td>\n",
       "      <td>3.0</td>\n",
       "      <td>5.0</td>\n",
       "      <td>12.0</td>\n",
       "      <td>5.0</td>\n",
       "      <td>2.0</td>\n",
       "      <td>14.0</td>\n",
       "      <td>4.0</td>\n",
       "      <td>6.0</td>\n",
       "      <td>NaN</td>\n",
       "      <td>...</td>\n",
       "      <td>NaN</td>\n",
       "      <td>NaN</td>\n",
       "      <td>NaN</td>\n",
       "      <td>NaN</td>\n",
       "      <td>NaN</td>\n",
       "      <td>NaN</td>\n",
       "      <td>NaN</td>\n",
       "      <td>NaN</td>\n",
       "      <td>NaN</td>\n",
       "      <td>NaN</td>\n",
       "    </tr>\n",
       "    <tr>\n",
       "      <th>nm0000630</th>\n",
       "      <td>8.0</td>\n",
       "      <td>2.0</td>\n",
       "      <td>6.0</td>\n",
       "      <td>14.0</td>\n",
       "      <td>2.0</td>\n",
       "      <td>3.0</td>\n",
       "      <td>4.0</td>\n",
       "      <td>5.0</td>\n",
       "      <td>1.0</td>\n",
       "      <td>1.0</td>\n",
       "      <td>...</td>\n",
       "      <td>3.0</td>\n",
       "      <td>7.0</td>\n",
       "      <td>3.0</td>\n",
       "      <td>1.0</td>\n",
       "      <td>NaN</td>\n",
       "      <td>NaN</td>\n",
       "      <td>NaN</td>\n",
       "      <td>NaN</td>\n",
       "      <td>NaN</td>\n",
       "      <td>NaN</td>\n",
       "    </tr>\n",
       "    <tr>\n",
       "      <th>nm0005227</th>\n",
       "      <td>10.0</td>\n",
       "      <td>1.0</td>\n",
       "      <td>2.0</td>\n",
       "      <td>2.0</td>\n",
       "      <td>NaN</td>\n",
       "      <td>1.0</td>\n",
       "      <td>1.0</td>\n",
       "      <td>NaN</td>\n",
       "      <td>NaN</td>\n",
       "      <td>NaN</td>\n",
       "      <td>...</td>\n",
       "      <td>1.0</td>\n",
       "      <td>NaN</td>\n",
       "      <td>1.0</td>\n",
       "      <td>NaN</td>\n",
       "      <td>2.0</td>\n",
       "      <td>NaN</td>\n",
       "      <td>NaN</td>\n",
       "      <td>NaN</td>\n",
       "      <td>NaN</td>\n",
       "      <td>NaN</td>\n",
       "    </tr>\n",
       "    <tr>\n",
       "      <th>nm0864851</th>\n",
       "      <td>1.0</td>\n",
       "      <td>NaN</td>\n",
       "      <td>NaN</td>\n",
       "      <td>NaN</td>\n",
       "      <td>NaN</td>\n",
       "      <td>NaN</td>\n",
       "      <td>NaN</td>\n",
       "      <td>NaN</td>\n",
       "      <td>NaN</td>\n",
       "      <td>NaN</td>\n",
       "      <td>...</td>\n",
       "      <td>1.0</td>\n",
       "      <td>NaN</td>\n",
       "      <td>NaN</td>\n",
       "      <td>NaN</td>\n",
       "      <td>NaN</td>\n",
       "      <td>NaN</td>\n",
       "      <td>NaN</td>\n",
       "      <td>NaN</td>\n",
       "      <td>NaN</td>\n",
       "      <td>NaN</td>\n",
       "    </tr>\n",
       "    <tr>\n",
       "      <th>...</th>\n",
       "      <td>...</td>\n",
       "      <td>...</td>\n",
       "      <td>...</td>\n",
       "      <td>...</td>\n",
       "      <td>...</td>\n",
       "      <td>...</td>\n",
       "      <td>...</td>\n",
       "      <td>...</td>\n",
       "      <td>...</td>\n",
       "      <td>...</td>\n",
       "      <td>...</td>\n",
       "      <td>...</td>\n",
       "      <td>...</td>\n",
       "      <td>...</td>\n",
       "      <td>...</td>\n",
       "      <td>...</td>\n",
       "      <td>...</td>\n",
       "      <td>...</td>\n",
       "      <td>...</td>\n",
       "      <td>...</td>\n",
       "      <td>...</td>\n",
       "    </tr>\n",
       "    <tr>\n",
       "      <th>nm9504284</th>\n",
       "      <td>NaN</td>\n",
       "      <td>NaN</td>\n",
       "      <td>NaN</td>\n",
       "      <td>NaN</td>\n",
       "      <td>NaN</td>\n",
       "      <td>1.0</td>\n",
       "      <td>NaN</td>\n",
       "      <td>NaN</td>\n",
       "      <td>NaN</td>\n",
       "      <td>NaN</td>\n",
       "      <td>...</td>\n",
       "      <td>1.0</td>\n",
       "      <td>NaN</td>\n",
       "      <td>NaN</td>\n",
       "      <td>NaN</td>\n",
       "      <td>NaN</td>\n",
       "      <td>NaN</td>\n",
       "      <td>NaN</td>\n",
       "      <td>NaN</td>\n",
       "      <td>NaN</td>\n",
       "      <td>NaN</td>\n",
       "    </tr>\n",
       "    <tr>\n",
       "      <th>nm10592896</th>\n",
       "      <td>NaN</td>\n",
       "      <td>NaN</td>\n",
       "      <td>NaN</td>\n",
       "      <td>NaN</td>\n",
       "      <td>NaN</td>\n",
       "      <td>1.0</td>\n",
       "      <td>NaN</td>\n",
       "      <td>NaN</td>\n",
       "      <td>NaN</td>\n",
       "      <td>NaN</td>\n",
       "      <td>...</td>\n",
       "      <td>1.0</td>\n",
       "      <td>NaN</td>\n",
       "      <td>NaN</td>\n",
       "      <td>NaN</td>\n",
       "      <td>NaN</td>\n",
       "      <td>NaN</td>\n",
       "      <td>NaN</td>\n",
       "      <td>NaN</td>\n",
       "      <td>NaN</td>\n",
       "      <td>NaN</td>\n",
       "    </tr>\n",
       "    <tr>\n",
       "      <th>nm7216750</th>\n",
       "      <td>NaN</td>\n",
       "      <td>NaN</td>\n",
       "      <td>NaN</td>\n",
       "      <td>NaN</td>\n",
       "      <td>NaN</td>\n",
       "      <td>1.0</td>\n",
       "      <td>NaN</td>\n",
       "      <td>NaN</td>\n",
       "      <td>NaN</td>\n",
       "      <td>NaN</td>\n",
       "      <td>...</td>\n",
       "      <td>1.0</td>\n",
       "      <td>NaN</td>\n",
       "      <td>NaN</td>\n",
       "      <td>NaN</td>\n",
       "      <td>NaN</td>\n",
       "      <td>NaN</td>\n",
       "      <td>NaN</td>\n",
       "      <td>NaN</td>\n",
       "      <td>NaN</td>\n",
       "      <td>NaN</td>\n",
       "    </tr>\n",
       "    <tr>\n",
       "      <th>nm0936300</th>\n",
       "      <td>NaN</td>\n",
       "      <td>NaN</td>\n",
       "      <td>NaN</td>\n",
       "      <td>NaN</td>\n",
       "      <td>NaN</td>\n",
       "      <td>NaN</td>\n",
       "      <td>NaN</td>\n",
       "      <td>NaN</td>\n",
       "      <td>NaN</td>\n",
       "      <td>1.0</td>\n",
       "      <td>...</td>\n",
       "      <td>NaN</td>\n",
       "      <td>NaN</td>\n",
       "      <td>NaN</td>\n",
       "      <td>NaN</td>\n",
       "      <td>NaN</td>\n",
       "      <td>NaN</td>\n",
       "      <td>NaN</td>\n",
       "      <td>NaN</td>\n",
       "      <td>NaN</td>\n",
       "      <td>NaN</td>\n",
       "    </tr>\n",
       "    <tr>\n",
       "      <th>nm10375007</th>\n",
       "      <td>1.0</td>\n",
       "      <td>NaN</td>\n",
       "      <td>NaN</td>\n",
       "      <td>1.0</td>\n",
       "      <td>NaN</td>\n",
       "      <td>NaN</td>\n",
       "      <td>NaN</td>\n",
       "      <td>NaN</td>\n",
       "      <td>NaN</td>\n",
       "      <td>NaN</td>\n",
       "      <td>...</td>\n",
       "      <td>NaN</td>\n",
       "      <td>NaN</td>\n",
       "      <td>NaN</td>\n",
       "      <td>NaN</td>\n",
       "      <td>NaN</td>\n",
       "      <td>NaN</td>\n",
       "      <td>NaN</td>\n",
       "      <td>NaN</td>\n",
       "      <td>NaN</td>\n",
       "      <td>NaN</td>\n",
       "    </tr>\n",
       "  </tbody>\n",
       "</table>\n",
       "<p>33609 rows × 25 columns</p>\n",
       "</div>"
      ],
      "text/plain": [
       "            Comedy  Fantasy  Romance  Drama  Mystery  Thriller  Action  \\\n",
       "nm0000212      7.0      1.0      6.0    6.0      1.0       2.0     1.0   \n",
       "nm0413168      7.0      3.0      5.0   12.0      5.0       2.0    14.0   \n",
       "nm0000630      8.0      2.0      6.0   14.0      2.0       3.0     4.0   \n",
       "nm0005227     10.0      1.0      2.0    2.0      NaN       1.0     1.0   \n",
       "nm0864851      1.0      NaN      NaN    NaN      NaN       NaN     NaN   \n",
       "...            ...      ...      ...    ...      ...       ...     ...   \n",
       "nm9504284      NaN      NaN      NaN    NaN      NaN       1.0     NaN   \n",
       "nm10592896     NaN      NaN      NaN    NaN      NaN       1.0     NaN   \n",
       "nm7216750      NaN      NaN      NaN    NaN      NaN       1.0     NaN   \n",
       "nm0936300      NaN      NaN      NaN    NaN      NaN       NaN     NaN   \n",
       "nm10375007     1.0      NaN      NaN    1.0      NaN       NaN     NaN   \n",
       "\n",
       "            Biography  Crime  War  ...  Horror  Documentary  Sport  News  \\\n",
       "nm0000212         1.0    2.0  1.0  ...     NaN          NaN    NaN   NaN   \n",
       "nm0413168         4.0    6.0  NaN  ...     NaN          NaN    NaN   NaN   \n",
       "nm0000630         5.0    1.0  1.0  ...     3.0          7.0    3.0   1.0   \n",
       "nm0005227         NaN    NaN  NaN  ...     1.0          NaN    1.0   NaN   \n",
       "nm0864851         NaN    NaN  NaN  ...     1.0          NaN    NaN   NaN   \n",
       "...               ...    ...  ...  ...     ...          ...    ...   ...   \n",
       "nm9504284         NaN    NaN  NaN  ...     1.0          NaN    NaN   NaN   \n",
       "nm10592896        NaN    NaN  NaN  ...     1.0          NaN    NaN   NaN   \n",
       "nm7216750         NaN    NaN  NaN  ...     1.0          NaN    NaN   NaN   \n",
       "nm0936300         NaN    NaN  1.0  ...     NaN          NaN    NaN   NaN   \n",
       "nm10375007        NaN    NaN  NaN  ...     NaN          NaN    NaN   NaN   \n",
       "\n",
       "            Family  Music      Western  Short  Reality-TV  \n",
       "nm0000212      NaN    NaN NaN      NaN    NaN         NaN  \n",
       "nm0413168      NaN    NaN NaN      NaN    NaN         NaN  \n",
       "nm0000630      NaN    NaN NaN      NaN    NaN         NaN  \n",
       "nm0005227      2.0    NaN NaN      NaN    NaN         NaN  \n",
       "nm0864851      NaN    NaN NaN      NaN    NaN         NaN  \n",
       "...            ...    ...  ..      ...    ...         ...  \n",
       "nm9504284      NaN    NaN NaN      NaN    NaN         NaN  \n",
       "nm10592896     NaN    NaN NaN      NaN    NaN         NaN  \n",
       "nm7216750      NaN    NaN NaN      NaN    NaN         NaN  \n",
       "nm0936300      NaN    NaN NaN      NaN    NaN         NaN  \n",
       "nm10375007     NaN    NaN NaN      NaN    NaN         NaN  \n",
       "\n",
       "[33609 rows x 25 columns]"
      ]
     },
     "execution_count": 12,
     "metadata": {},
     "output_type": "execute_result"
    }
   ],
   "source": [
    "index = actor_genre.keys()\n",
    "rows = [actor_genre[k] for k in index]\n",
    "df = pd.DataFrame(rows,index=index)\n",
    "df"
   ]
  },
  {
   "cell_type": "code",
   "execution_count": 13,
   "metadata": {},
   "outputs": [],
   "source": [
    "query_actor_id = \"nm1165110\""
   ]
  },
  {
   "cell_type": "code",
   "execution_count": 14,
   "metadata": {},
   "outputs": [],
   "source": [
    "df = df.fillna(0)"
   ]
  },
  {
   "cell_type": "code",
   "execution_count": 1,
   "metadata": {},
   "outputs": [
    {
     "ename": "NameError",
     "evalue": "name 'df' is not defined",
     "output_type": "error",
     "traceback": [
      "\u001b[0;31m---------------------------------------------------------------------------\u001b[0m",
      "\u001b[0;31mNameError\u001b[0m                                 Traceback (most recent call last)",
      "Cell \u001b[0;32mIn[1], line 3\u001b[0m\n\u001b[1;32m      1\u001b[0m \u001b[39mfrom\u001b[39;00m \u001b[39mscipy\u001b[39;00m\u001b[39m.\u001b[39;00m\u001b[39msparse\u001b[39;00m \u001b[39mimport\u001b[39;00m lil_matrix\n\u001b[1;32m      2\u001b[0m \u001b[39mimport\u001b[39;00m \u001b[39mscipy\u001b[39;00m\u001b[39m.\u001b[39;00m\u001b[39mspatial\u001b[39;00m\u001b[39m.\u001b[39;00m\u001b[39mdistance\u001b[39;00m\n\u001b[0;32m----> 3\u001b[0m target_actor \u001b[39m=\u001b[39m df\u001b[39m.\u001b[39mloc[query_actor_id]\n",
      "\u001b[0;31mNameError\u001b[0m: name 'df' is not defined"
     ]
    }
   ],
   "source": [
    "from scipy.sparse import lil_matrix\n",
    "import scipy.spatial.distance\n",
    "target_actor = df.loc[query_actor_id]"
   ]
  },
  {
   "cell_type": "code",
   "execution_count": 16,
   "metadata": {},
   "outputs": [
    {
     "data": {
      "text/plain": [
       "Comedy          3.0\n",
       "Fantasy         2.0\n",
       "Romance         0.0\n",
       "Drama           7.0\n",
       "Mystery         1.0\n",
       "Thriller        4.0\n",
       "Action         17.0\n",
       "Biography       2.0\n",
       "Crime           3.0\n",
       "War             0.0\n",
       "Adventure      10.0\n",
       "Sci-Fi          2.0\n",
       "Animation       0.0\n",
       "Musical         0.0\n",
       "History         1.0\n",
       "Horror          1.0\n",
       "Documentary     0.0\n",
       "Sport           0.0\n",
       "News            0.0\n",
       "Family          0.0\n",
       "Music           0.0\n",
       "                0.0\n",
       "Western         0.0\n",
       "Short           0.0\n",
       "Reality-TV      0.0\n",
       "Name: nm1165110, dtype: float64"
      ]
     },
     "execution_count": 16,
     "metadata": {},
     "output_type": "execute_result"
    }
   ],
   "source": [
    "target_actor"
   ]
  },
  {
   "cell_type": "code",
   "execution_count": 19,
   "metadata": {},
   "outputs": [],
   "source": [
    "distances = scipy.spatial.distance.cdist(df,[target_actor], metric=\"euclidean\").flatten()"
   ]
  },
  {
   "cell_type": "code",
   "execution_count": 21,
   "metadata": {},
   "outputs": [
    {
     "data": {
      "text/plain": [
       "array([20.5669638 , 13.96424004, 20.83266666, 20.4450483 , 21.86321111])"
      ]
     },
     "execution_count": 21,
     "metadata": {},
     "output_type": "execute_result"
    }
   ],
   "source": [
    "distances[:5]"
   ]
  },
  {
   "cell_type": "code",
   "execution_count": 22,
   "metadata": {},
   "outputs": [],
   "source": [
    "query_distances = list(zip(df.index, distances))"
   ]
  },
  {
   "cell_type": "code",
   "execution_count": 23,
   "metadata": {},
   "outputs": [
    {
     "data": {
      "text/plain": [
       "[('nm0000212', np.float64(20.566963801203133)),\n",
       " ('nm0413168', np.float64(13.96424004376894)),\n",
       " ('nm0000630', np.float64(20.83266665599966)),\n",
       " ('nm0005227', np.float64(20.445048300260872)),\n",
       " ('nm0864851', np.float64(21.863211109075447))]"
      ]
     },
     "execution_count": 23,
     "metadata": {},
     "output_type": "execute_result"
    }
   ],
   "source": [
    "query_distances[:5]"
   ]
  },
  {
   "cell_type": "code",
   "execution_count": 25,
   "metadata": {},
   "outputs": [
    {
     "name": "stdout",
     "output_type": "stream",
     "text": [
      "nm1165110 0.0\n",
      "nm0000129 5.477225575051661\n",
      "nm0147147 8.246211251235321\n",
      "nm0879085 8.831760866327848\n",
      "nm0089217 9.055385138137417\n",
      "nm0004874 9.219544457292887\n",
      "nm0001401 9.219544457292887\n",
      "nm0001600 9.591663046625438\n",
      "nm0001472 9.591663046625438\n",
      "nm0001092 9.797958971132712\n",
      "nm0001444 10.04987562112089\n"
     ]
    }
   ],
   "source": [
    "for similar_actor_id, similar_genre_score in sorted(query_distances,key=lambda x:x[1])[:11]:\n",
    "    print(similar_actor_id, similar_genre_score)"
   ]
  }
 ],
 "metadata": {
  "kernelspec": {
   "display_name": "Python 3",
   "language": "python",
   "name": "python3"
  },
  "language_info": {
   "codemirror_mode": {
    "name": "ipython",
    "version": 3
   },
   "file_extension": ".py",
   "mimetype": "text/x-python",
   "name": "python",
   "nbconvert_exporter": "python",
   "pygments_lexer": "ipython3",
   "version": "3.12.5"
  },
  "orig_nbformat": 4
 },
 "nbformat": 4,
 "nbformat_minor": 2
}

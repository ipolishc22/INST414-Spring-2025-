{
 "cells": [
  {
   "cell_type": "code",
   "execution_count": 2,
   "metadata": {},
   "outputs": [],
   "source": [
    "import networkx as nx       #importing all the needed libraries \n",
    "import pandas as pd\n",
    "import json"
   ]
  },
  {
   "cell_type": "code",
   "execution_count": 3,
   "metadata": {},
   "outputs": [],
   "source": [
    "g = nx.Graph()      #creating an empty graph "
   ]
  },
  {
   "cell_type": "code",
   "execution_count": 4,
   "metadata": {},
   "outputs": [],
   "source": [
    "airports = pd.read_csv(\"airports.csv\", header=None)     # transforming the csv files into json format \n",
    "routes = pd.read_csv(\"routes.csv\", header=None)\n",
    "\n",
    "airports.columns = ['Airport ID', 'Name', 'City', 'Country', 'IATA', 'ICAO',\n",
    "                    'Latitude', 'Longitude', 'Altitude', 'Timezone', 'DST',\n",
    "                    'Tz Database Time Zone', 'Type', 'Source']\n",
    "\n",
    "routes.columns = ['Airline', 'Airline ID', 'Source Airport', 'Source ID',\n",
    "                  'Destination Airport', 'Destination ID', 'Codeshare',\n",
    "                  'Stops', 'Equipment']"
   ]
  },
  {
   "cell_type": "code",
   "execution_count": 5,
   "metadata": {},
   "outputs": [
    {
     "name": "stderr",
     "output_type": "stream",
     "text": [
      "/var/folders/bc/_h0z1r_n7xsczt7nbblx6sxr0000gn/T/ipykernel_777/1043740540.py:7: SettingWithCopyWarning: \n",
      "A value is trying to be set on a copy of a slice from a DataFrame.\n",
      "Try using .loc[row_indexer,col_indexer] = value instead\n",
      "\n",
      "See the caveats in the documentation: https://pandas.pydata.org/pandas-docs/stable/user_guide/indexing.html#returning-a-view-versus-a-copy\n",
      "  routes_clean['Source ID'] = routes_clean['Source ID'].astype(int)\n",
      "/var/folders/bc/_h0z1r_n7xsczt7nbblx6sxr0000gn/T/ipykernel_777/1043740540.py:8: SettingWithCopyWarning: \n",
      "A value is trying to be set on a copy of a slice from a DataFrame.\n",
      "Try using .loc[row_indexer,col_indexer] = value instead\n",
      "\n",
      "See the caveats in the documentation: https://pandas.pydata.org/pandas-docs/stable/user_guide/indexing.html#returning-a-view-versus-a-copy\n",
      "  routes_clean['Destination ID'] = routes_clean['Destination ID'].astype(int)\n"
     ]
    }
   ],
   "source": [
    "routes_clean = routes[(routes['Source ID'] != '\\\\N') & (routes['Destination ID'] != '\\\\N')]     # checks to make sure that both the destination and origin vlaues exist \n",
    "\n",
    "# converting both the ids into integer form \n",
    "routes_clean['Source ID'] = routes_clean['Source ID'].astype(int)\n",
    "routes_clean['Destination ID'] = routes_clean['Destination ID'].astype(int)\n",
    "\n",
    "# for this analysus we only need source and destination ids \n",
    "routes_clean = routes_clean[['Source ID', 'Destination ID']]\n",
    "airports_clean = airports[['Airport ID', 'Name', 'City', 'Country']]\n",
    "\n",
    "# save as a json file\n",
    "routes_clean.to_json(\"routes_clean.json\", orient='records', indent=2)\n",
    "airports_clean.to_json(\"airports_clean.json\", orient='records', indent=2)\n"
   ]
  },
  {
   "cell_type": "code",
   "execution_count": 6,
   "metadata": {},
   "outputs": [],
   "source": [
    "# creating the nodes \n",
    "with open(\"airports_clean.json\", \"r\") as aps:\n",
    "    airports = json.load(aps)\n",
    "\n",
    "\n",
    "for airport in airports:\n",
    "    g.add_node(airport['Airport ID'], \n",
    "               name=airport['Name'], \n",
    "               city=airport['City'], \n",
    "               country=airport['Country'])"
   ]
  },
  {
   "cell_type": "code",
   "execution_count": 7,
   "metadata": {},
   "outputs": [],
   "source": [
    "# creating the edges between the nodes \n",
    "with open(\"routes_clean.json\", \"r\") as rts:\n",
    "    routes = json.load(rts)\n",
    "\n",
    "for route in routes:\n",
    "    g.add_edge(route['Source ID'], route['Destination ID'])\n"
   ]
  },
  {
   "cell_type": "code",
   "execution_count": 29,
   "metadata": {},
   "outputs": [],
   "source": [
    "degree_centrality = nx.degree_centrality(g)"
   ]
  },
  {
   "cell_type": "code",
   "execution_count": 30,
   "metadata": {},
   "outputs": [],
   "source": [
    "eigenvector_centrality = nx.eigenvector_centrality(g)"
   ]
  },
  {
   "cell_type": "code",
   "execution_count": 31,
   "metadata": {},
   "outputs": [],
   "source": [
    "closeness_centrality = nx.closeness_centrality(g)"
   ]
  },
  {
   "cell_type": "code",
   "execution_count": 35,
   "metadata": {},
   "outputs": [
    {
     "name": "stdout",
     "output_type": "stream",
     "text": [
      "Amsterdam Airport Schiphol (Amsterdam, Netherlands) - Centrality: 0.03176\n",
      "Frankfurt am Main Airport (Frankfurt, Germany) - Centrality: 0.03125\n",
      "Charles de Gaulle International Airport (Paris, France) - Centrality: 0.03073\n",
      "Atatürk International Airport (Istanbul, Turkey) - Centrality: 0.02997\n",
      "Hartsfield Jackson Atlanta International Airport (Atlanta, United States) - Centrality: 0.02779\n",
      "Beijing Capital International Airport (Beijing, China) - Centrality: 0.02651\n",
      "Chicago O'Hare International Airport (Chicago, United States) - Centrality: 0.02638\n",
      "Munich Airport (Munich, Germany) - Centrality: 0.02459\n",
      "Dallas Fort Worth International Airport (Dallas-Fort Worth, United States) - Centrality: 0.02407\n",
      "Domodedovo International Airport (Moscow, Russia) - Centrality: 0.02407\n",
      "Dubai International Airport (Dubai, United Arab Emirates) - Centrality: 0.02382\n",
      "London Heathrow Airport (London, United Kingdom) - Centrality: 0.02190\n",
      "Denver International Airport (Denver, United States) - Centrality: 0.02177\n",
      "George Bush Intercontinental Houston Airport (Houston, United States) - Centrality: 0.02164\n",
      "London Gatwick Airport (London, United Kingdom) - Centrality: 0.02113\n",
      "Barcelona International Airport (Barcelona, Spain) - Centrality: 0.02087\n",
      "Leonardo da Vinci–Fiumicino Airport (Rome, Italy) - Centrality: 0.02075\n",
      "John F Kennedy International Airport (New York, United States) - Centrality: 0.02075\n",
      "Adolfo Suárez Madrid–Barajas Airport (Madrid, Spain) - Centrality: 0.02036\n",
      "Shanghai Pudong International Airport (Shanghai, China) - Centrality: 0.01972\n"
     ]
    }
   ],
   "source": [
    "top_k = 20\n",
    "\n",
    "for u in sorted(degree_centrality, key=degree_centrality.get, reverse=True)[:top_k]:\n",
    "    name = g.nodes[u].get('name', 'Unknown')\n",
    "    city = g.nodes[u].get('city', '')\n",
    "    country = g.nodes[u].get('country', '')\n",
    "    score = degree_centrality[u]\n",
    "    \n",
    "    print(f\"{name} ({city}, {country}) - Centrality: {score:.5f}\")"
   ]
  },
  {
   "cell_type": "code",
   "execution_count": 36,
   "metadata": {},
   "outputs": [
    {
     "name": "stdout",
     "output_type": "stream",
     "text": [
      "Amsterdam Airport Schiphol (Amsterdam, Netherlands) - Centrality: 0.16790\n",
      "Frankfurt am Main Airport (Frankfurt, Germany) - Centrality: 0.16642\n",
      "Charles de Gaulle International Airport (Paris, France) - Centrality: 0.15948\n",
      "Munich Airport (Munich, Germany) - Centrality: 0.14854\n",
      "Leonardo da Vinci–Fiumicino Airport (Rome, Italy) - Centrality: 0.13635\n",
      "London Heathrow Airport (London, United Kingdom) - Centrality: 0.13597\n",
      "Atatürk International Airport (Istanbul, Turkey) - Centrality: 0.12924\n",
      "Barcelona International Airport (Barcelona, Spain) - Centrality: 0.12814\n",
      "Zürich Airport (Zurich, Switzerland) - Centrality: 0.12602\n",
      "Adolfo Suárez Madrid–Barajas Airport (Madrid, Spain) - Centrality: 0.12299\n",
      "Brussels Airport (Brussels, Belgium) - Centrality: 0.12295\n",
      "Dublin Airport (Dublin, Ireland) - Centrality: 0.11604\n",
      "Düsseldorf Airport (Duesseldorf, Germany) - Centrality: 0.11510\n",
      "Manchester Airport (Manchester, United Kingdom) - Centrality: 0.11480\n",
      "London Gatwick Airport (London, United Kingdom) - Centrality: 0.11453\n",
      "Vienna International Airport (Vienna, Austria) - Centrality: 0.11402\n",
      "Copenhagen Kastrup Airport (Copenhagen, Denmark) - Centrality: 0.10941\n",
      "John F Kennedy International Airport (New York, United States) - Centrality: 0.10663\n",
      "Malpensa International Airport (Milano, Italy) - Centrality: 0.10546\n",
      "Dubai International Airport (Dubai, United Arab Emirates) - Centrality: 0.10352\n"
     ]
    }
   ],
   "source": [
    "top_k = 20\n",
    "\n",
    "for u in sorted(eigenvector_centrality, key=eigenvector_centrality.get, reverse=True)[:top_k]:\n",
    "    name = g.nodes[u].get('name', 'Unknown')\n",
    "    city = g.nodes[u].get('city', '')\n",
    "    country = g.nodes[u].get('country', '')\n",
    "    score = eigenvector_centrality[u]\n",
    "    \n",
    "    print(f\"{name} ({city}, {country}) - Centrality: {score:.5f}\")"
   ]
  },
  {
   "cell_type": "code",
   "execution_count": 37,
   "metadata": {},
   "outputs": [
    {
     "name": "stdout",
     "output_type": "stream",
     "text": [
      "Frankfurt am Main Airport (Frankfurt, Germany) - Centrality: 0.17227\n",
      "Charles de Gaulle International Airport (Paris, France) - Centrality: 0.17113\n",
      "London Heathrow Airport (London, United Kingdom) - Centrality: 0.17015\n",
      "Amsterdam Airport Schiphol (Amsterdam, Netherlands) - Centrality: 0.16849\n",
      "Dubai International Airport (Dubai, United Arab Emirates) - Centrality: 0.16806\n",
      "Los Angeles International Airport (Los Angeles, United States) - Centrality: 0.16646\n",
      "John F Kennedy International Airport (New York, United States) - Centrality: 0.16559\n",
      "Lester B. Pearson International Airport (Toronto, Canada) - Centrality: 0.16369\n",
      "Atatürk International Airport (Istanbul, Turkey) - Centrality: 0.16272\n",
      "Chicago O'Hare International Airport (Chicago, United States) - Centrality: 0.16264\n",
      "Beijing Capital International Airport (Beijing, China) - Centrality: 0.16217\n",
      "Munich Airport (Munich, Germany) - Centrality: 0.16211\n",
      "Leonardo da Vinci–Fiumicino Airport (Rome, Italy) - Centrality: 0.16110\n",
      "Narita International Airport (Tokyo, Japan) - Centrality: 0.16092\n",
      "Newark Liberty International Airport (Newark, United States) - Centrality: 0.16069\n",
      "Incheon International Airport (Seoul, South Korea) - Centrality: 0.16033\n",
      "Hamad International Airport (Doha, Qatar) - Centrality: 0.16014\n",
      "Zürich Airport (Zurich, Switzerland) - Centrality: 0.15936\n",
      "Adolfo Suárez Madrid–Barajas Airport (Madrid, Spain) - Centrality: 0.15896\n",
      "George Bush Intercontinental Houston Airport (Houston, United States) - Centrality: 0.15892\n"
     ]
    }
   ],
   "source": [
    "top_k = 20\n",
    "\n",
    "for u in sorted(closeness_centrality, key=closeness_centrality.get, reverse=True)[:top_k]:\n",
    "    name = g.nodes[u].get('name', 'Unknown')\n",
    "    city = g.nodes[u].get('city', '')\n",
    "    country = g.nodes[u].get('country', '')\n",
    "    score = closeness_centrality[u]\n",
    "    \n",
    "    print(f\"{name} ({city}, {country}) - Centrality: {score:.5f}\")"
   ]
  },
  {
   "cell_type": "code",
   "execution_count": 8,
   "metadata": {},
   "outputs": [
    {
     "name": "stdout",
     "output_type": "stream",
     "text": [
      "Hartsfield Jackson Atlanta International Airport (Atlanta, United States) - PageRank: 0.003865\n",
      "Chicago O'Hare International Airport (Chicago, United States) - PageRank: 0.003587\n",
      "Atatürk International Airport (Istanbul, Turkey) - PageRank: 0.003586\n",
      "Denver International Airport (Denver, United States) - PageRank: 0.003574\n",
      "Dallas Fort Worth International Airport (Dallas-Fort Worth, United States) - PageRank: 0.003554\n",
      "Domodedovo International Airport (Moscow, Russia) - PageRank: 0.003312\n",
      "Charles de Gaulle International Airport (Paris, France) - PageRank: 0.003309\n",
      "Amsterdam Airport Schiphol (Amsterdam, Netherlands) - PageRank: 0.003235\n",
      "Frankfurt am Main Airport (Frankfurt, Germany) - PageRank: 0.003199\n",
      "Beijing Capital International Airport (Beijing, China) - PageRank: 0.003156\n"
     ]
    }
   ],
   "source": [
    "pagerank = nx.pagerank(g)\n",
    "\n",
    "top_k = 10\n",
    "\n",
    "for u in sorted(pagerank, key=pagerank.get, reverse=True)[:top_k]:\n",
    "    name = g.nodes[u].get('name', 'Unknown')\n",
    "    city = g.nodes[u].get('city', '')\n",
    "    country = g.nodes[u].get('country', '')\n",
    "    score = pagerank[u]\n",
    "    \n",
    "    print(f\"{name} ({city}, {country}) - PageRank: {score:.6f}\")"
   ]
  }
 ],
 "metadata": {
  "kernelspec": {
   "display_name": "Python 3",
   "language": "python",
   "name": "python3"
  },
  "language_info": {
   "codemirror_mode": {
    "name": "ipython",
    "version": 3
   },
   "file_extension": ".py",
   "mimetype": "text/x-python",
   "name": "python",
   "nbconvert_exporter": "python",
   "pygments_lexer": "ipython3",
   "version": "3.12.5"
  },
  "orig_nbformat": 4
 },
 "nbformat": 4,
 "nbformat_minor": 2
}

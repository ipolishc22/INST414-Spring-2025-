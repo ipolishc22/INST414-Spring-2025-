{
 "cells": [
  {
   "cell_type": "code",
   "execution_count": 7,
   "metadata": {},
   "outputs": [],
   "source": [
    "import json\n",
    "import pandas as pd\n",
    "from sklearn.tree import DecisionTreeClassifier\n",
    "from sklearn.model_selection import train_test_split\n",
    "from sklearn.preprocessing import MultiLabelBinarizer\n",
    "import numpy as np \n"
   ]
  },
  {
   "cell_type": "code",
   "execution_count": 8,
   "metadata": {},
   "outputs": [],
   "source": [
    "data = []\n",
    "with open('imdb_movies_2000to2022.prolific.json', 'r') as file:\n",
    "    for line in file:\n",
    "        data.append(json.loads(line))\n",
    "df = pd.DataFrame(data)"
   ]
  },
  {
   "cell_type": "code",
   "execution_count": 9,
   "metadata": {},
   "outputs": [
    {
     "name": "stdout",
     "output_type": "stream",
     "text": [
      "     imdb_id  ...                        rating\n",
      "0  tt0035423  ...  {'avg': 6.4, 'votes': 85923}\n",
      "1  tt0088751  ...    {'avg': 5.3, 'votes': 328}\n",
      "2  tt0096056  ...    {'avg': 5.6, 'votes': 830}\n",
      "3  tt0113092  ...    {'avg': 3.4, 'votes': 829}\n",
      "4  tt0116391  ...    {'avg': 6.2, 'votes': 257}\n",
      "\n",
      "[5 rows x 7 columns]\n"
     ]
    }
   ],
   "source": [
    "# print(df[:5])"
   ]
  },
  {
   "cell_type": "code",
   "execution_count": 10,
   "metadata": {},
   "outputs": [
    {
     "name": "stdout",
     "output_type": "stream",
     "text": [
      "     imdb_id                 title  ...                        rating rating.avg\n",
      "0  tt0035423        Kate & Leopold  ...  {'avg': 6.4, 'votes': 85923}        6.4\n",
      "1  tt0088751     The Naked Monster  ...    {'avg': 5.3, 'votes': 328}        5.3\n",
      "2  tt0096056  Crime and Punishment  ...    {'avg': 5.6, 'votes': 830}        5.6\n",
      "3  tt0113092         For the Cause  ...    {'avg': 3.4, 'votes': 829}        3.4\n",
      "4  tt0116391                  Gang  ...    {'avg': 6.2, 'votes': 257}        6.2\n",
      "\n",
      "[5 rows x 8 columns]\n"
     ]
    }
   ],
   "source": [
    "df.replace({'\\\\N':np.nan},inplace=True)\n",
    "def get_avg_Rating(x):\n",
    "    if isinstance(x, dict):\n",
    "        return x.get('avg', np.nan)\n",
    "    return np.nan\n",
    "df['rating.avg'] = df['rating'].apply(get_avg_Rating)\n",
    "# print(df[:5])"
   ]
  },
  {
   "cell_type": "code",
   "execution_count": 13,
   "metadata": {},
   "outputs": [
    {
     "name": "stderr",
     "output_type": "stream",
     "text": [
      "/var/folders/bc/_h0z1r_n7xsczt7nbblx6sxr0000gn/T/ipykernel_16688/1796543545.py:1: FutureWarning: A value is trying to be set on a copy of a DataFrame or Series through chained assignment using an inplace method.\n",
      "The behavior will change in pandas 3.0. This inplace method will never work because the intermediate object on which we are setting values always behaves as a copy.\n",
      "\n",
      "For example, when doing 'df[col].method(value, inplace=True)', try using 'df.method({col: value}, inplace=True)' or df[col] = df[col].method(value) instead, to perform the operation inplace on the original object.\n",
      "\n",
      "\n",
      "  df['rating.avg'].fillna(df['rating.avg'].mean(),inplace=True)\n"
     ]
    }
   ],
   "source": [
    "df['rating.avg'].fillna(df['rating.avg'].mean(),inplace=True)"
   ]
  },
  {
   "cell_type": "code",
   "execution_count": 15,
   "metadata": {},
   "outputs": [
    {
     "name": "stderr",
     "output_type": "stream",
     "text": [
      "/var/folders/bc/_h0z1r_n7xsczt7nbblx6sxr0000gn/T/ipykernel_16688/160809515.py:1: FutureWarning: A value is trying to be set on a copy of a DataFrame or Series through chained assignment using an inplace method.\n",
      "The behavior will change in pandas 3.0. This inplace method will never work because the intermediate object on which we are setting values always behaves as a copy.\n",
      "\n",
      "For example, when doing 'df[col].method(value, inplace=True)', try using 'df.method({col: value}, inplace=True)' or df[col] = df[col].method(value) instead, to perform the operation inplace on the original object.\n",
      "\n",
      "\n",
      "  df['rating.avg'].fillna(df['rating.avg'].mean(), inplace=True)\n",
      "/var/folders/bc/_h0z1r_n7xsczt7nbblx6sxr0000gn/T/ipykernel_16688/160809515.py:3: FutureWarning: A value is trying to be set on a copy of a DataFrame or Series through chained assignment using an inplace method.\n",
      "The behavior will change in pandas 3.0. This inplace method will never work because the intermediate object on which we are setting values always behaves as a copy.\n",
      "\n",
      "For example, when doing 'df[col].method(value, inplace=True)', try using 'df.method({col: value}, inplace=True)' or df[col] = df[col].method(value) instead, to perform the operation inplace on the original object.\n",
      "\n",
      "\n",
      "  df['runtime'].fillna(df['runtime'].median(), inplace=True)\n",
      "/var/folders/bc/_h0z1r_n7xsczt7nbblx6sxr0000gn/T/ipykernel_16688/160809515.py:5: FutureWarning: A value is trying to be set on a copy of a DataFrame or Series through chained assignment using an inplace method.\n",
      "The behavior will change in pandas 3.0. This inplace method will never work because the intermediate object on which we are setting values always behaves as a copy.\n",
      "\n",
      "For example, when doing 'df[col].method(value, inplace=True)', try using 'df.method({col: value}, inplace=True)' or df[col] = df[col].method(value) instead, to perform the operation inplace on the original object.\n",
      "\n",
      "\n",
      "  df['year'].fillna(df['year'].median(), inplace=True)\n"
     ]
    }
   ],
   "source": [
    "df['rating.avg'].fillna(df['rating.avg'].mean(), inplace=True)\n",
    "df['runtime'] = pd.to_numeric(df['runtime'])\n",
    "df['runtime'].fillna(df['runtime'].median(), inplace=True)\n",
    "df['year'] = pd.to_numeric(df['year'])\n",
    "df['year'].fillna(df['year'].median(), inplace=True)"
   ]
  },
  {
   "cell_type": "code",
   "execution_count": 18,
   "metadata": {},
   "outputs": [
    {
     "name": "stdout",
     "output_type": "stream",
     "text": [
      "[[0 0 0 0 0 1 0 0 0 0 1 0 0 0 0 0 0 0 1 0 0 0 0 0 0]\n",
      " [0 0 0 0 0 1 0 0 0 0 0 0 1 0 0 0 0 0 0 1 0 0 0 0 0]\n",
      " [0 0 0 0 0 0 0 0 1 0 0 0 0 0 0 0 0 0 0 0 0 0 0 0 0]\n",
      " [0 1 1 0 0 0 0 0 1 0 0 0 0 0 0 0 0 0 0 0 0 0 0 0 0]\n",
      " [0 1 0 0 0 0 1 0 1 0 0 0 0 0 0 0 0 0 0 0 0 0 0 0 0]]\n",
      "['' 'Action' 'Adventure' 'Animation' 'Biography' 'Comedy' 'Crime'\n",
      " 'Documentary' 'Drama' 'Family' 'Fantasy' 'History' 'Horror' 'Music'\n",
      " 'Musical' 'Mystery' 'News' 'Reality-TV' 'Romance' 'Sci-Fi' 'Short'\n",
      " 'Sport' 'Thriller' 'War' 'Western']\n",
      "      Action  Adventure  Animation  ...  Sport  Thriller  War  Western\n",
      "0  0       0          0          0  ...      0         0    0        0\n",
      "1  0       0          0          0  ...      0         0    0        0\n",
      "2  0       0          0          0  ...      0         0    0        0\n",
      "3  0       1          1          0  ...      0         0    0        0\n",
      "4  0       1          0          0  ...      0         0    0        0\n",
      "\n",
      "[5 rows x 25 columns]\n"
     ]
    }
   ],
   "source": [
    "mlb = MultiLabelBinarizer()\n",
    "genre_labels = mlb.fit_transform(df['genres'])\n",
    "genre_df = pd.DataFrame(genre_labels, columns=mlb.classes_)\n",
    "# print(genre_labels[:5])\n",
    "# print(mlb.classes_)\n",
    "# print(genre_df[:5])"
   ]
  },
  {
   "cell_type": "code",
   "execution_count": 19,
   "metadata": {},
   "outputs": [
    {
     "name": "stdout",
     "output_type": "stream",
     "text": [
      "     imdb_id                 title  year  ...  Thriller War Western\n",
      "0  tt0035423        Kate & Leopold  2001  ...         0   0       0\n",
      "1  tt0088751     The Naked Monster  2005  ...         0   0       0\n",
      "2  tt0096056  Crime and Punishment  2002  ...         0   0       0\n",
      "3  tt0113092         For the Cause  2000  ...         0   0       0\n",
      "4  tt0116391                  Gang  2000  ...         0   0       0\n",
      "\n",
      "[5 rows x 33 columns]\n"
     ]
    }
   ],
   "source": [
    "df = pd.concat([df,genre_df], axis=1)\n",
    "# print(df[:5])"
   ]
  },
  {
   "cell_type": "code",
   "execution_count": 21,
   "metadata": {},
   "outputs": [],
   "source": [
    "X = df[['runtime', 'year', 'rating.avg']]\n",
    "y = genre_df"
   ]
  },
  {
   "cell_type": "code",
   "execution_count": 22,
   "metadata": {},
   "outputs": [],
   "source": [
    "X_train, X_test, y_train, y_test = train_test_split(X,y,test_size=0.2)"
   ]
  },
  {
   "cell_type": "code",
   "execution_count": 24,
   "metadata": {},
   "outputs": [
    {
     "name": "stdout",
     "output_type": "stream",
     "text": [
      "max_depth=1 | Test_Accuracy: 0.42\n",
      "max_depth=2 | Test_Accuracy: 0.25\n",
      "max_depth=3 | Test_Accuracy: 0.27\n",
      "max_depth=4 | Test_Accuracy: 0.40\n",
      "max_depth=5 | Test_Accuracy: 0.39\n",
      "max_depth=6 | Test_Accuracy: 0.33\n",
      "max_depth=7 | Test_Accuracy: 0.35\n",
      "max_depth=8 | Test_Accuracy: 0.36\n",
      "max_depth=9 | Test_Accuracy: 0.37\n",
      "max_depth=10 | Test_Accuracy: 0.37\n"
     ]
    }
   ],
   "source": [
    "for depth in range(1,11):\n",
    "    clf = DecisionTreeClassifier(max_depth=depth)\n",
    "\n",
    "    clf.fit(X_train, y_train)\n",
    "    test_pred = clf.predict(X_test)\n",
    "    test_correct = []\n",
    "    for i in range(len(test_pred)):\n",
    "        test = test_pred[i]\n",
    "        actual = y_test.values[i]\n",
    "        # print(test)\n",
    "        # print(actual)\n",
    "        if any(test[j]==1 and actual[j]==1 for j in range(len(test))):\n",
    "            test_correct.append(True)\n",
    "        else:\n",
    "            test_correct.append(False)\n",
    "    test_accuracy = np.mean(test_correct)\n",
    "    print(f'max_depth={depth} | Test_Accuracy: {test_accuracy:.2f}')"
   ]
  },
  {
   "cell_type": "code",
   "execution_count": 27,
   "metadata": {},
   "outputs": [
    {
     "name": "stdout",
     "output_type": "stream",
     "text": [
      "max_depth=1 | Train_Accuracy: 0.43\n",
      "max_depth=2 | Train_Accuracy: 0.25\n",
      "max_depth=3 | Train_Accuracy: 0.28\n",
      "max_depth=4 | Train_Accuracy: 0.41\n",
      "max_depth=5 | Train_Accuracy: 0.41\n",
      "max_depth=6 | Train_Accuracy: 0.34\n",
      "max_depth=7 | Train_Accuracy: 0.36\n",
      "max_depth=8 | Train_Accuracy: 0.38\n",
      "max_depth=9 | Train_Accuracy: 0.41\n",
      "max_depth=10 | Train_Accuracy: 0.43\n"
     ]
    }
   ],
   "source": [
    "for depth in range(1,11):\n",
    "    clf = DecisionTreeClassifier(max_depth=depth)\n",
    "\n",
    "    clf.fit(X_train, y_train)\n",
    "    train_pred = clf.predict(X_train)\n",
    "    train_correct = []\n",
    "    for i in range(len(train_pred)):\n",
    "        train = train_pred[i]\n",
    "        actual = y_train.values[i]\n",
    "        # print(test)\n",
    "        # print(actual)\n",
    "        if any(train[j]==1 and actual[j]==1 for j in range(len(train))):\n",
    "            train_correct.append(True)\n",
    "        else:\n",
    "            train_correct.append(False)\n",
    "    train_accuracy = np.mean(train_correct)\n",
    "    print(f'max_depth={depth} | Train_Accuracy: {train_accuracy:.2f}')"
   ]
  },
  {
   "cell_type": "markdown",
   "metadata": {},
   "source": [
    "As max_depth increases, the accuracy decreases, as the model tries to memorize training data. "
   ]
  }
 ],
 "metadata": {
  "kernelspec": {
   "display_name": "Python 3",
   "language": "python",
   "name": "python3"
  },
  "language_info": {
   "codemirror_mode": {
    "name": "ipython",
    "version": 3
   },
   "file_extension": ".py",
   "mimetype": "text/x-python",
   "name": "python",
   "nbconvert_exporter": "python",
   "pygments_lexer": "ipython3",
   "version": "3.12.5"
  },
  "orig_nbformat": 4
 },
 "nbformat": 4,
 "nbformat_minor": 2
}

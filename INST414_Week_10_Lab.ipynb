{
 "cells": [
  {
   "cell_type": "code",
   "execution_count": 1,
   "metadata": {},
   "outputs": [],
   "source": [
    "import json\n",
    "import pandas as pd"
   ]
  },
  {
   "cell_type": "code",
   "execution_count": 4,
   "metadata": {},
   "outputs": [],
   "source": [
    "actor_movies = []\n",
    "target_actor = 'nm0000115'\n",
    "\n",
    "with open('imdb_movies_2000to2022.prolific.json', 'r') as f:\n",
    "    for line in f:\n",
    "        movie = json.loads(line)\n",
    "        for actor in movie['actors']:\n",
    "            if actor[0] == target_actor:\n",
    "                actor_movies.append(movie['imdb_id'])"
   ]
  },
  {
   "cell_type": "code",
   "execution_count": 5,
   "metadata": {},
   "outputs": [
    {
     "name": "stdout",
     "output_type": "stream",
     "text": [
      "['tt0218967', 'tt0238112', 'tt0245562', 'tt0259324', 'tt0259929']\n"
     ]
    }
   ],
   "source": [
    "print(actor_movies[:5])"
   ]
  },
  {
   "cell_type": "code",
   "execution_count": 6,
   "metadata": {},
   "outputs": [],
   "source": [
    "cluster_df = pd.read_csv('movie_to_cluster.csv')"
   ]
  },
  {
   "cell_type": "code",
   "execution_count": 7,
   "metadata": {},
   "outputs": [],
   "source": [
    "total_movies = len(cluster_df)"
   ]
  },
  {
   "cell_type": "code",
   "execution_count": 11,
   "metadata": {},
   "outputs": [
    {
     "name": "stdout",
     "output_type": "stream",
     "text": [
      "Pr[Cluster 00 nm0000115]:     0.08196721311475409\n",
      "Pr[Cluster 01 nm0000115]:     0.13114754098360656\n",
      "Pr[Cluster 02 nm0000115]:     0.16393442622950818\n",
      "Pr[Cluster 03 nm0000115]:     0.0983606557377049\n",
      "Pr[Cluster 04 nm0000115]:     0.01639344262295082\n",
      "Pr[Cluster 05 nm0000115]:     0.0\n",
      "Pr[Cluster 06 nm0000115]:     0.03278688524590164\n",
      "Pr[Cluster 07 nm0000115]:     0.0\n",
      "Pr[Cluster 08 nm0000115]:     0.0\n",
      "Pr[Cluster 09 nm0000115]:     0.04918032786885245\n",
      "Pr[Cluster 10 nm0000115]:     0.0\n",
      "Pr[Cluster 11 nm0000115]:     0.03278688524590164\n",
      "Pr[Cluster 12 nm0000115]:     0.03278688524590164\n",
      "Pr[Cluster 13 nm0000115]:     0.06557377049180328\n",
      "Pr[Cluster 14 nm0000115]:     0.01639344262295082\n",
      "Pr[Cluster 15 nm0000115]:     0.27868852459016397\n"
     ]
    }
   ],
   "source": [
    "for cluster_id, group in cluster_df.groupby('cluster'):\n",
    "    this_cluster_actor_count = 0\n",
    "\n",
    "    for m in group['movie_id']:\n",
    "        if m in actor_movies:\n",
    "            this_cluster_actor_count += 1\n",
    "\n",
    "    p_A_inter_B = this_cluster_actor_count / total_movies\n",
    "    total_actor_movies = len(actor_movies)\n",
    "    p_B = total_actor_movies / total_movies\n",
    "\n",
    "    if p_B > 0:\n",
    "        pr_cluster_given_actor = p_A_inter_B / p_B\n",
    "    else:\n",
    "        pr_cluster_given_actor = 0\n",
    "\n",
    "\n",
    "    print(f\"Pr[Cluster {cluster_id:02d} {target_actor}]:     {pr_cluster_given_actor}\")"
   ]
  },
  {
   "cell_type": "code",
   "execution_count": 12,
   "metadata": {},
   "outputs": [],
   "source": [
    "actor_movies = []\n",
    "target_actor = 'nm0000206'\n",
    "\n",
    "with open('imdb_movies_2000to2022.prolific.json', 'r') as f:\n",
    "    for line in f:\n",
    "        movie = json.loads(line)\n",
    "        for actor in movie['actors']:\n",
    "            if actor[0] == target_actor:\n",
    "                actor_movies.append(movie['imdb_id'])"
   ]
  },
  {
   "cell_type": "code",
   "execution_count": 13,
   "metadata": {},
   "outputs": [
    {
     "name": "stdout",
     "output_type": "stream",
     "text": [
      "['tt0191397', 'tt0204626', 'tt0219699', 'tt0230838', 'tt0234215']\n"
     ]
    }
   ],
   "source": [
    "print(actor_movies[:5])"
   ]
  },
  {
   "cell_type": "code",
   "execution_count": null,
   "metadata": {},
   "outputs": [],
   "source": [
    "cluster_df = pd.read_csv('movie_to_cluster.csv')"
   ]
  },
  {
   "cell_type": "code",
   "execution_count": null,
   "metadata": {},
   "outputs": [],
   "source": [
    "total_movies = len(cluster_df)"
   ]
  },
  {
   "cell_type": "code",
   "execution_count": 14,
   "metadata": {},
   "outputs": [
    {
     "name": "stdout",
     "output_type": "stream",
     "text": [
      "Pr[Cluster 00 nm0000206]:     0.09375\n",
      "Pr[Cluster 01 nm0000206]:     0.03125\n",
      "Pr[Cluster 02 nm0000206]:     0.09375\n",
      "Pr[Cluster 03 nm0000206]:     0.09375\n",
      "Pr[Cluster 04 nm0000206]:     0.09375\n",
      "Pr[Cluster 05 nm0000206]:     0.0\n",
      "Pr[Cluster 06 nm0000206]:     0.09375\n",
      "Pr[Cluster 07 nm0000206]:     0.0625\n",
      "Pr[Cluster 08 nm0000206]:     0.0\n",
      "Pr[Cluster 09 nm0000206]:     0.03125\n",
      "Pr[Cluster 10 nm0000206]:     0.03125\n",
      "Pr[Cluster 11 nm0000206]:     0.03125\n",
      "Pr[Cluster 12 nm0000206]:     0.03125\n",
      "Pr[Cluster 13 nm0000206]:     0.09375\n",
      "Pr[Cluster 14 nm0000206]:     0.0625\n",
      "Pr[Cluster 15 nm0000206]:     0.15625\n"
     ]
    }
   ],
   "source": [
    "for cluster_id, group in cluster_df.groupby('cluster'):\n",
    "    this_cluster_actor_count = 0\n",
    "\n",
    "    for m in group['movie_id']:\n",
    "        if m in actor_movies:\n",
    "            this_cluster_actor_count += 1\n",
    "\n",
    "    p_A_inter_B = this_cluster_actor_count / total_movies\n",
    "    total_actor_movies = len(actor_movies)\n",
    "    p_B = total_actor_movies / total_movies\n",
    "\n",
    "    if p_B > 0:\n",
    "        pr_cluster_given_actor = p_A_inter_B / p_B\n",
    "    else:\n",
    "        pr_cluster_given_actor = 0\n",
    "\n",
    "\n",
    "    print(f\"Pr[Cluster {cluster_id:02d} {target_actor}]:     {pr_cluster_given_actor}\")"
   ]
  },
  {
   "cell_type": "code",
   "execution_count": 16,
   "metadata": {},
   "outputs": [],
   "source": [
    "actor_movies = []\n",
    "target_actor = 'nm1089991'\n",
    "\n",
    "with open('imdb_movies_2000to2022.prolific.json', 'r') as f:\n",
    "    for line in f:\n",
    "        movie = json.loads(line)\n",
    "        for actor in movie['actors']:\n",
    "            if actor[0] == target_actor:\n",
    "                actor_movies.append(movie['imdb_id'])"
   ]
  },
  {
   "cell_type": "code",
   "execution_count": 17,
   "metadata": {},
   "outputs": [
    {
     "name": "stdout",
     "output_type": "stream",
     "text": [
      "['tt0462335', 'tt0800369', 'tt1490785', 'tt1527835', 'tt1700844']\n"
     ]
    }
   ],
   "source": [
    "print(actor_movies[:5])"
   ]
  },
  {
   "cell_type": "code",
   "execution_count": 18,
   "metadata": {},
   "outputs": [],
   "source": [
    "cluster_df = pd.read_csv('movie_to_cluster.csv')"
   ]
  },
  {
   "cell_type": "code",
   "execution_count": 19,
   "metadata": {},
   "outputs": [],
   "source": [
    "total_movies = len(cluster_df)"
   ]
  },
  {
   "cell_type": "code",
   "execution_count": 20,
   "metadata": {},
   "outputs": [
    {
     "name": "stdout",
     "output_type": "stream",
     "text": [
      "Pr[Cluster 00 nm1089991]:     0.08333333333333334\n",
      "Pr[Cluster 01 nm1089991]:     0.0\n",
      "Pr[Cluster 02 nm1089991]:     0.33333333333333337\n",
      "Pr[Cluster 03 nm1089991]:     0.0\n",
      "Pr[Cluster 04 nm1089991]:     0.08333333333333334\n",
      "Pr[Cluster 05 nm1089991]:     0.08333333333333334\n",
      "Pr[Cluster 06 nm1089991]:     0.25\n",
      "Pr[Cluster 07 nm1089991]:     0.0\n",
      "Pr[Cluster 08 nm1089991]:     0.0\n",
      "Pr[Cluster 09 nm1089991]:     0.0\n",
      "Pr[Cluster 10 nm1089991]:     0.0\n",
      "Pr[Cluster 11 nm1089991]:     0.0\n",
      "Pr[Cluster 12 nm1089991]:     0.0\n",
      "Pr[Cluster 13 nm1089991]:     0.08333333333333334\n",
      "Pr[Cluster 14 nm1089991]:     0.08333333333333334\n",
      "Pr[Cluster 15 nm1089991]:     0.0\n"
     ]
    }
   ],
   "source": [
    "for cluster_id, group in cluster_df.groupby('cluster'):\n",
    "    this_cluster_actor_count = 0\n",
    "\n",
    "    for m in group['movie_id']:\n",
    "        if m in actor_movies:\n",
    "            this_cluster_actor_count += 1\n",
    "\n",
    "    p_A_inter_B = this_cluster_actor_count / total_movies\n",
    "    total_actor_movies = len(actor_movies)\n",
    "    p_B = total_actor_movies / total_movies\n",
    "\n",
    "    if p_B > 0:\n",
    "        pr_cluster_given_actor = p_A_inter_B / p_B\n",
    "    else:\n",
    "        pr_cluster_given_actor = 0\n",
    "\n",
    "\n",
    "    print(f\"Pr[Cluster {cluster_id:02d} {target_actor}]:     {pr_cluster_given_actor}\")"
   ]
  }
 ],
 "metadata": {
  "kernelspec": {
   "display_name": "Python 3",
   "language": "python",
   "name": "python3"
  },
  "language_info": {
   "codemirror_mode": {
    "name": "ipython",
    "version": 3
   },
   "file_extension": ".py",
   "mimetype": "text/x-python",
   "name": "python",
   "nbconvert_exporter": "python",
   "pygments_lexer": "ipython3",
   "version": "3.12.5"
  },
  "orig_nbformat": 4
 },
 "nbformat": 4,
 "nbformat_minor": 2
}

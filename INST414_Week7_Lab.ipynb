{
 "cells": [
  {
   "cell_type": "code",
   "execution_count": 11,
   "metadata": {},
   "outputs": [],
   "source": [
    "import pandas as pd\n",
    "\n",
    "from sklearn.cluster import KMeans "
   ]
  },
  {
   "cell_type": "code",
   "execution_count": 12,
   "metadata": {},
   "outputs": [],
   "source": [
    "actor_genre_df = pd.read_csv(\"imdb_movies_2000to2022.actorXgenre.csv\", index_col=\"actor_id\")\n"
   ]
  },
  {
   "cell_type": "code",
   "execution_count": 13,
   "metadata": {},
   "outputs": [],
   "source": [
    "#print(actor_genre_df[:5])"
   ]
  },
  {
   "cell_type": "code",
   "execution_count": 14,
   "metadata": {},
   "outputs": [],
   "source": [
    "kmeans = KMeans(n_clusters=8)"
   ]
  },
  {
   "cell_type": "code",
   "execution_count": 15,
   "metadata": {},
   "outputs": [],
   "source": [
    "cluster_labels = kmeans.fit_predict(actor_genre_df)"
   ]
  },
  {
   "cell_type": "code",
   "execution_count": 16,
   "metadata": {},
   "outputs": [
    {
     "name": "stdout",
     "output_type": "stream",
     "text": [
      "[4 2 1 4 0]\n"
     ]
    }
   ],
   "source": [
    "print(cluster_labels[:5])"
   ]
  },
  {
   "cell_type": "code",
   "execution_count": 17,
   "metadata": {},
   "outputs": [],
   "source": [
    "actor_genre_df['cluster'] = cluster_labels\n",
    "#print(actor_genre_df[:5])"
   ]
  },
  {
   "cell_type": "code",
   "execution_count": 18,
   "metadata": {},
   "outputs": [],
   "source": [
    "grouped = actor_genre_df.groupby('cluster')"
   ]
  },
  {
   "cell_type": "code",
   "execution_count": 19,
   "metadata": {},
   "outputs": [
    {
     "name": "stdout",
     "output_type": "stream",
     "text": [
      "Number of actors per cluster: \n",
      "cluster\n",
      "0    14300\n",
      "7    11474\n",
      "6     5392\n",
      "4     1341\n",
      "1      528\n",
      "3      254\n",
      "2      192\n",
      "5      128\n",
      "Name: count, dtype: int64\n"
     ]
    }
   ],
   "source": [
    "print(\"Number of actors per cluster: \")\n",
    "print(actor_genre_df['cluster'].value_counts())"
   ]
  },
  {
   "cell_type": "code",
   "execution_count": 22,
   "metadata": {},
   "outputs": [
    {
     "name": "stdout",
     "output_type": "stream",
     "text": [
      "\n",
      "Cluster 0:\n",
      "nm4325894\n",
      "nm1389345\n",
      "nm3825855\n",
      "nm0190537\n",
      "nm1732298\n",
      "\n",
      "Cluster 1:\n",
      "nm0225963\n",
      "nm0737533\n",
      "nm0531808\n",
      "nm0441085\n",
      "nm0004753\n",
      "\n",
      "Cluster 2:\n",
      "nm0000230\n",
      "nm1953187\n",
      "nm3148014\n",
      "nm0000329\n",
      "nm0574534\n",
      "\n",
      "Cluster 3:\n",
      "nm0000658\n",
      "nm0004825\n",
      "nm6489058\n",
      "nm3822770\n",
      "nm0001505\n",
      "\n",
      "Cluster 4:\n",
      "nm1128418\n",
      "nm8468959\n",
      "nm3602118\n",
      "nm0001785\n",
      "nm1602660\n",
      "\n",
      "Cluster 5:\n",
      "nm0000551\n",
      "nm0001166\n",
      "nm0000663\n",
      "nm0000437\n",
      "nm0000255\n",
      "\n",
      "Cluster 6:\n",
      "nm2585835\n",
      "nm0005498\n",
      "nm0750468\n",
      "nm3236608\n",
      "nm0329094\n",
      "\n",
      "Cluster 7:\n",
      "nm1283912\n",
      "nm12191494\n",
      "nm2219430\n",
      "nm9042828\n",
      "nm4050725\n"
     ]
    }
   ],
   "source": [
    "for cluster, group in grouped:\n",
    "    print(f\"\\nCluster {cluster}:\")\n",
    "    sample_actors = group.sample(n=5).index\n",
    "    for actor in sample_actors:\n",
    "        print(actor)"
   ]
  }
 ],
 "metadata": {
  "kernelspec": {
   "display_name": "Python 3",
   "language": "python",
   "name": "python3"
  },
  "language_info": {
   "codemirror_mode": {
    "name": "ipython",
    "version": 3
   },
   "file_extension": ".py",
   "mimetype": "text/x-python",
   "name": "python",
   "nbconvert_exporter": "python",
   "pygments_lexer": "ipython3",
   "version": "3.12.5"
  },
  "orig_nbformat": 4
 },
 "nbformat": 4,
 "nbformat_minor": 2
}

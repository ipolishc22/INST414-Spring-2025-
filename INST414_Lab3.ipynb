{
 "cells": [
  {
   "cell_type": "code",
   "execution_count": 1,
   "metadata": {},
   "outputs": [],
   "source": [
    "import json\n",
    "import networkx as nx #"
   ]
  },
  {
   "cell_type": "code",
   "execution_count": 2,
   "metadata": {},
   "outputs": [],
   "source": [
    "g = nx.Graph()"
   ]
  },
  {
   "cell_type": "code",
   "execution_count": 6,
   "metadata": {},
   "outputs": [],
   "source": [
    "with open(\"imdb_movies.prolific.json\", \"r\") as IMDB_file:\n",
    "    for obj in IMDB_file:\n",
    "        movie = json.loads(obj)\n",
    "        for actor_id, actor_name in movie['actors']:\n",
    "            g.add_node(actor_id, name=actor_name)\n",
    "        i=0\n",
    "        for left_actor_id, left_actor_name in movie['actors']:\n",
    "            for right_actor_id, right_actor_name in movie['actors'][i+1:]:\n",
    "                g.add_edge(left_actor_id, right_actor_id)"
   ]
  },
  {
   "cell_type": "code",
   "execution_count": 7,
   "metadata": {},
   "outputs": [
    {
     "name": "stdout",
     "output_type": "stream",
     "text": [
      "('nm0000212', 'nm0413168')\n",
      "('nm0000212', 'nm0000630')\n",
      "('nm0000212', 'nm0005227')\n",
      "('nm0000212', 'nm0000473')\n",
      "('nm0000212', 'nm0000212')\n",
      "('nm0000212', 'nm0001435')\n",
      "('nm0000212', 'nm0000527')\n",
      "('nm0000212', 'nm0749263')\n",
      "('nm0000212', 'nm0000492')\n",
      "('nm0000212', 'nm1476796')\n"
     ]
    }
   ],
   "source": [
    "for edge in list(g.edges())[:10]:\n",
    "    print(edge)"
   ]
  },
  {
   "cell_type": "code",
   "execution_count": 12,
   "metadata": {},
   "outputs": [
    {
     "name": "stdout",
     "output_type": "stream",
     "text": [
      "nm0000616 Eric Roberts 0.017257795762913593\n",
      "nm0001744 Tom Sizemore 0.008390859319209711\n",
      "nm0000514 Michael Madsen 0.008033801475839085\n",
      "nm0001803 Danny Trejo 0.0072899309688169486\n",
      "nm2278431 Joe Hammerstone 0.006665079742918353\n",
      "nm0222881 Tony Devon 0.00648655082123304\n",
      "nm0001002 Dean Cain 0.005980718876457986\n",
      "nm0442207 Lloyd Kaufman 0.0057129254939300165\n",
      "nm0261724 Joe Estevez 0.005593906212806475\n",
      "nm0000115 Nicolas Cage 0.0051773387288740775\n",
      "nm2454994 Bill Oberst Jr. 0.005117829088312306\n",
      "nm0004193 Debbie Rochon 0.005088074268031421\n",
      "nm0290556 James Franco 0.004969054986907879\n",
      "nm0865302 Tony Todd 0.004850035705784337\n",
      "nm1678610 Theodore Bouloukos 0.004850035705784337\n",
      "nm0000246 Bruce Willis 0.0047310164246607955\n",
      "nm0001595 Michael Paré 0.004552487502975482\n",
      "nm0000168 Samuel L. Jackson 0.004492977862413711\n",
      "nm0000353 Willem Dafoe 0.0044632230421328255\n",
      "nm0000448 Lance Henriksen 0.004373958581290169\n"
     ]
    }
   ],
   "source": [
    "centrality_degree = nx.degree_centrality(g)\n",
    "top_k=20\n",
    "for u in sorted(centrality_degree, key=centrality_degree.get, reverse=True)[:top_k]:\n",
    "    print(u, g.nodes[u]['name'], centrality_degree[u])\n"
   ]
  }
 ],
 "metadata": {
  "kernelspec": {
   "display_name": "Python 3",
   "language": "python",
   "name": "python3"
  },
  "language_info": {
   "codemirror_mode": {
    "name": "ipython",
    "version": 3
   },
   "file_extension": ".py",
   "mimetype": "text/x-python",
   "name": "python",
   "nbconvert_exporter": "python",
   "pygments_lexer": "ipython3",
   "version": "3.12.5"
  },
  "orig_nbformat": 4
 },
 "nbformat": 4,
 "nbformat_minor": 2
}
